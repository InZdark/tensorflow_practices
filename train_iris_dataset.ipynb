{
 "cells": [
  {
   "cell_type": "code",
   "execution_count": 1,
   "metadata": {},
   "outputs": [
    {
     "name": "stdout",
     "output_type": "stream",
     "text": [
      "Tensorflow version: 2.1.0\n",
      "Eager execution: True\n"
     ]
    }
   ],
   "source": [
    "import os\n",
    "import pandas as pd\n",
    "import tensorflow as tf\n",
    "import tensorflow.keras.layers as layers \n",
    "import matplotlib.pyplot as plt\n",
    "print(f'Tensorflow version: {tf.__version__}')\n",
    "print(f'Eager execution: {tf.executing_eagerly()}')"
   ]
  },
  {
   "cell_type": "markdown",
   "metadata": {},
   "source": [
    "### Data path"
   ]
  },
  {
   "cell_type": "code",
   "execution_count": 2,
   "metadata": {},
   "outputs": [],
   "source": [
    "train_dir = 'C:\\\\Users\\\\shuxg\\\\.keras\\\\datasets\\\\iris_training.csv'\n",
    "test_dir = 'C:\\\\Users\\\\shuxg\\\\.keras\\\\datasets\\\\iris_test.csv'"
   ]
  },
  {
   "cell_type": "markdown",
   "metadata": {},
   "source": [
    "### Load data"
   ]
  },
  {
   "cell_type": "code",
   "execution_count": 3,
   "metadata": {},
   "outputs": [
    {
     "name": "stdout",
     "output_type": "stream",
     "text": [
      "(120, 5)\n"
     ]
    },
    {
     "data": {
      "text/html": [
       "<div>\n",
       "<style scoped>\n",
       "    .dataframe tbody tr th:only-of-type {\n",
       "        vertical-align: middle;\n",
       "    }\n",
       "\n",
       "    .dataframe tbody tr th {\n",
       "        vertical-align: top;\n",
       "    }\n",
       "\n",
       "    .dataframe thead th {\n",
       "        text-align: right;\n",
       "    }\n",
       "</style>\n",
       "<table border=\"1\" class=\"dataframe\">\n",
       "  <thead>\n",
       "    <tr style=\"text-align: right;\">\n",
       "      <th></th>\n",
       "      <th>120</th>\n",
       "      <th>4</th>\n",
       "      <th>setosa</th>\n",
       "      <th>versicolor</th>\n",
       "      <th>virginica</th>\n",
       "    </tr>\n",
       "  </thead>\n",
       "  <tbody>\n",
       "    <tr>\n",
       "      <th>0</th>\n",
       "      <td>6.4</td>\n",
       "      <td>2.8</td>\n",
       "      <td>5.6</td>\n",
       "      <td>2.2</td>\n",
       "      <td>2</td>\n",
       "    </tr>\n",
       "    <tr>\n",
       "      <th>1</th>\n",
       "      <td>5.0</td>\n",
       "      <td>2.3</td>\n",
       "      <td>3.3</td>\n",
       "      <td>1.0</td>\n",
       "      <td>1</td>\n",
       "    </tr>\n",
       "    <tr>\n",
       "      <th>2</th>\n",
       "      <td>4.9</td>\n",
       "      <td>2.5</td>\n",
       "      <td>4.5</td>\n",
       "      <td>1.7</td>\n",
       "      <td>2</td>\n",
       "    </tr>\n",
       "  </tbody>\n",
       "</table>\n",
       "</div>"
      ],
      "text/plain": [
       "   120    4  setosa  versicolor  virginica\n",
       "0  6.4  2.8     5.6         2.2          2\n",
       "1  5.0  2.3     3.3         1.0          1\n",
       "2  4.9  2.5     4.5         1.7          2"
      ]
     },
     "execution_count": 3,
     "metadata": {},
     "output_type": "execute_result"
    }
   ],
   "source": [
    "df = pd.read_csv(train_dir)\n",
    "print(df.shape)\n",
    "df.head(3)"
   ]
  },
  {
   "cell_type": "code",
   "execution_count": 4,
   "metadata": {},
   "outputs": [
    {
     "name": "stdout",
     "output_type": "stream",
     "text": [
      "Feature columns: ['sepal_length', 'sepal_width', 'petal_length', 'petal_width']\n",
      "Label column: species\n"
     ]
    }
   ],
   "source": [
    "# rename columns\n",
    "column_names = ['sepal_length', 'sepal_width', 'petal_length', 'petal_width', 'species']\n",
    "column_features = column_names[:-1]\n",
    "column_label = column_names[-1]\n",
    "print(f'Feature columns: {column_features}')\n",
    "print(f'Label column: {column_label}')"
   ]
  },
  {
   "cell_type": "code",
   "execution_count": 5,
   "metadata": {},
   "outputs": [],
   "source": [
    "BATCH_SIZE = 32\n",
    "train_ds = tf.data.experimental.make_csv_dataset(file_pattern=train_dir,\n",
    "                                                 batch_size=BATCH_SIZE,\n",
    "                                                 column_names=column_names,\n",
    "                                                 label_name=column_label,\n",
    "                                                 num_epochs=1)\n",
    "\n",
    "test_ds = tf.data.experimental.make_csv_dataset(file_pattern=test_dir,\n",
    "                                                batch_size=BATCH_SIZE,\n",
    "                                                column_names=column_names,\n",
    "                                                label_name=column_label,\n",
    "                                                shuffle=False,\n",
    "                                                num_epochs=1)"
   ]
  },
  {
   "cell_type": "code",
   "execution_count": 6,
   "metadata": {},
   "outputs": [
    {
     "data": {
      "text/plain": [
       "OrderedDict([('sepal_length',\n",
       "              <tf.Tensor: shape=(32,), dtype=float32, numpy=\n",
       "              array([5.7, 5.4, 6.3, 6.9, 5.4, 6.1, 4.6, 6.7, 6.7, 6.3, 5. , 6. , 5. ,\n",
       "                     5.1, 6.3, 6.1, 4.9, 6. , 6.1, 5.1, 4.9, 5.4, 6.7, 4.4, 5.1, 6.4,\n",
       "                     6.2, 5.4, 7.2, 5.7, 7. , 6. ], dtype=float32)>),\n",
       "             ('sepal_width',\n",
       "              <tf.Tensor: shape=(32,), dtype=float32, numpy=\n",
       "              array([2.9, 3.4, 3.4, 3.1, 3.9, 2.8, 3.1, 3.1, 3. , 2.7, 3.2, 2.9, 3.5,\n",
       "                     3.7, 3.3, 2.9, 3.1, 2.2, 2.6, 3.8, 3. , 3. , 3.3, 3. , 2.5, 2.8,\n",
       "                     3.4, 3.7, 3.2, 2.8, 3.2, 3. ], dtype=float32)>),\n",
       "             ('petal_length',\n",
       "              <tf.Tensor: shape=(32,), dtype=float32, numpy=\n",
       "              array([4.2, 1.5, 5.6, 4.9, 1.7, 4.7, 1.5, 4.4, 5. , 4.9, 1.2, 4.5, 1.3,\n",
       "                     1.5, 4.7, 4.7, 1.5, 5. , 5.6, 1.9, 1.4, 4.5, 5.7, 1.3, 3. , 5.6,\n",
       "                     5.4, 1.5, 6. , 4.1, 4.7, 4.8], dtype=float32)>),\n",
       "             ('petal_width',\n",
       "              <tf.Tensor: shape=(32,), dtype=float32, numpy=\n",
       "              array([1.3, 0.4, 2.4, 1.5, 0.4, 1.2, 0.2, 1.4, 1.7, 1.8, 0.2, 1.5, 0.3,\n",
       "                     0.4, 1.6, 1.4, 0.1, 1.5, 1.4, 0.4, 0.2, 1.5, 2.1, 0.2, 1.1, 2.1,\n",
       "                     2.3, 0.2, 1.8, 1.3, 1.4, 1.8], dtype=float32)>)])"
      ]
     },
     "execution_count": 6,
     "metadata": {},
     "output_type": "execute_result"
    }
   ],
   "source": [
    "x, y = next(iter(train_ds))\n",
    "x"
   ]
  },
  {
   "cell_type": "code",
   "execution_count": 7,
   "metadata": {},
   "outputs": [
    {
     "data": {
      "image/png": "[encoded data removed]",
      "text/plain": [
       "<Figure size 576x504 with 1 Axes>"
      ]
     },
     "metadata": {
      "needs_background": "light"
     },
     "output_type": "display_data"
    }
   ],
   "source": [
    "plt.figure(figsize=(8, 7))\n",
    "plt.scatter(x['sepal_length'], x['petal_length'], c=y, s=20)\n",
    "plt.xlabel('sepal_length')\n",
    "plt.ylabel('petal_length')\n",
    "plt.show()"
   ]
  },
  {
   "cell_type": "code",
   "execution_count": 8,
   "metadata": {},
   "outputs": [
    {
     "data": {
      "text/plain": [
       "<tf.Tensor: shape=(10, 4), dtype=float32, numpy=\n",
       "array([[5.9, 3. , 5.1, 1.8],\n",
       "       [5.1, 3.5, 1.4, 0.3],\n",
       "       [6.1, 3. , 4.9, 1.8],\n",
       "       [6.4, 3.1, 5.5, 1.8],\n",
       "       [5.9, 3.2, 4.8, 1.8],\n",
       "       [6.8, 2.8, 4.8, 1.4],\n",
       "       [5. , 3.4, 1.5, 0.2],\n",
       "       [6.3, 2.7, 4.9, 1.8],\n",
       "       [4.4, 2.9, 1.4, 0.2],\n",
       "       [5. , 3.5, 1.6, 0.6]], dtype=float32)>"
      ]
     },
     "execution_count": 8,
     "metadata": {},
     "output_type": "execute_result"
    }
   ],
   "source": [
    "def map_func(features, labels):\n",
    "    features = tf.stack(list(features.values()), axis=1)\n",
    "    return features, labels\n",
    "\n",
    "train_ds = train_ds.map(map_func)\n",
    "test_ds = test_ds.map(map_func)\n",
    "\n",
    "x, y = next(iter(train_ds))\n",
    "x[0:10]"
   ]
  },
  {
   "cell_type": "markdown",
   "metadata": {},
   "source": [
    "### Classifier"
   ]
  },
  {
   "cell_type": "code",
   "execution_count": 9,
   "metadata": {},
   "outputs": [
    {
     "name": "stdout",
     "output_type": "stream",
     "text": [
      "Epoch 1, Loss 1.309, Acc 0.35, Val_loss 1.538, Val_acc 0.27\n",
      "Epoch 51, Loss 0.446, Acc 0.81, Val_loss 0.527, Val_acc 0.70\n",
      "Epoch 101, Loss 0.283, Acc 0.95, Val_loss 0.332, Val_acc 0.93\n",
      "Epoch 151, Loss 0.176, Acc 0.98, Val_loss 0.195, Val_acc 0.97\n",
      "Epoch 201, Loss 0.121, Acc 0.98, Val_loss 0.125, Val_acc 1.00\n"
     ]
    }
   ],
   "source": [
    "# method 1\n",
    "model = tf.keras.Sequential([layers.Dense(10, activation='relu'),\n",
    "                             layers.Dense(10, activation='relu'),\n",
    "                             layers.Dense(3, activation='softmax')])\n",
    "model.compile(optimizer='adam', loss='sparse_categorical_crossentropy', metrics=['accuracy'])\n",
    "\n",
    "for epoch in range(201):\n",
    "    history = model.fit(train_ds, epochs=1, validation_data=test_ds, verbose=0)\n",
    "    if epoch % 50 == 0:\n",
    "        template = 'Epoch {}, Loss {:.3f}, Acc {:.2f}, Val_loss {:.3f}, Val_acc {:.2f}'\n",
    "        print(template.format(epoch+1,\n",
    "                              history.history['loss'][-1],\n",
    "                              history.history['accuracy'][-1],\n",
    "                              history.history['val_loss'][-1], \n",
    "                              history.history['val_accuracy'][-1]))"
   ]
  },
  {
   "cell_type": "code",
   "execution_count": 10,
   "metadata": {},
   "outputs": [],
   "source": [
    "# method 2\n",
    "class Model(tf.keras.Model):\n",
    "    \n",
    "    def __init__(self, unit_list, num_classes):\n",
    "        super(Model, self).__init__()\n",
    "        self.d1 = layers.Dense(unit_list[0])\n",
    "        self.d2 = layers.Dense(unit_list[1])\n",
    "        self.d3 = layers.Dense(num_classes)\n",
    "    \n",
    "    def call(self, x):\n",
    "        x = self.d1(x)\n",
    "        x = tf.nn.relu(x)\n",
    "        x = self.d2(x)\n",
    "        x = tf.nn.relu(x)\n",
    "        x = self.d3(x)\n",
    "        return x\n",
    "\n",
    "loss_object = tf.keras.losses.SparseCategoricalCrossentropy(from_logits=True)\n",
    "optimizer = tf.keras.optimizers.Adam()\n",
    "\n",
    "# Metrics\n",
    "train_loss = tf.keras.metrics.Mean()\n",
    "train_accuracy = tf.keras.metrics.SparseCategoricalAccuracy()\n",
    "test_loss = tf.keras.metrics.Mean()\n",
    "test_accuracy = tf.keras.metrics.SparseCategoricalAccuracy()\n",
    "\n",
    "# def accuracy_func(y, prediction):\n",
    "#     y_hat = tf.argmax(tf.nn.softmax(prediction), axis=1, output_type=tf.int32)\n",
    "#     return tf.reduce_mean(tf.cast(tf.equal(y, y_hat), tf.float32))\n",
    "\n",
    "# Train step\n",
    "def train_step(model, x, y):\n",
    "    with tf.GradientTape() as tape:\n",
    "        predictions = model(x, training=True)\n",
    "        loss = loss_object(y, predictions)\n",
    "    gradients = tape.gradient(loss, model.trainable_variables)\n",
    "    optimizer.apply_gradients(zip(gradients, model.trainable_variables))\n",
    "    return train_loss(loss), train_accuracy(y, predictions)\n",
    "\n",
    "# Test step\n",
    "def test_step(model, x, y):\n",
    "    predictions = model(x, training=False)\n",
    "    loss = loss_object(y, predictions)\n",
    "    return test_loss(loss), test_accuracy(y, predictions)"
   ]
  },
  {
   "cell_type": "code",
   "execution_count": 11,
   "metadata": {},
   "outputs": [
    {
     "name": "stdout",
     "output_type": "stream",
     "text": [
      "Epoch 1, Loss 0.629, Acc 98.33, Val_loss 0.626, Val_acc 100.00\n",
      "Epoch 51, Loss 0.600, Acc 97.50, Val_loss 0.607, Val_acc 96.67\n",
      "Epoch 101, Loss 0.590, Acc 98.33, Val_loss 0.593, Val_acc 96.67\n",
      "Epoch 151, Loss 0.584, Acc 98.33, Val_loss 0.588, Val_acc 96.67\n",
      "Epoch 201, Loss 0.582, Acc 98.33, Val_loss 0.584, Val_acc 96.67\n"
     ]
    }
   ],
   "source": [
    "# model = Model([10, 10], 3)\n",
    "\n",
    "Epochs = 201\n",
    "for epoch in range(Epochs):\n",
    "    train_loss.reset_states()\n",
    "    train_accuracy.reset_states()\n",
    "    test_loss.reset_states()\n",
    "    test_accuracy.reset_states()\n",
    "    \n",
    "    for x, y in train_ds:\n",
    "        train_step(model, x, y)\n",
    "    \n",
    "    for x, y in test_ds:\n",
    "        test_step(model, x, y)\n",
    "    \n",
    "    if epoch % 50 == 0:\n",
    "        template = 'Epoch {}, Loss {:.3f}, Acc {:.2f}, Val_loss {:.3f}, Val_acc {:.2f}'\n",
    "        print(template.format(epoch+1,\n",
    "                              train_loss.result(),\n",
    "                              train_accuracy.result()*100,\n",
    "                              test_loss.result(),\n",
    "                              test_accuracy.result()*100))"
   ]
  },
  {
   "cell_type": "code",
   "execution_count": null,
   "metadata": {},
   "outputs": [],
   "source": []
  },
  {
   "cell_type": "code",
   "execution_count": null,
   "metadata": {},
   "outputs": [],
   "source": []
  },
  {
   "cell_type": "code",
   "execution_count": null,
   "metadata": {},
   "outputs": [],
   "source": []
  },
  {
   "cell_type": "code",
   "execution_count": null,
   "metadata": {},
   "outputs": [],
   "source": []
  }
 ],
 "metadata": {
  "kernelspec": {
   "display_name": "Python 3",
   "language": "python",
   "name": "python3"
  },
  "language_info": {
   "codemirror_mode": {
    "name": "ipython",
    "version": 3
   },
   "file_extension": ".py",
   "mimetype": "text/x-python",
   "name": "python",
   "nbconvert_exporter": "python",
   "pygments_lexer": "ipython3",
   "version": "3.7.7"
  }
 },
 "nbformat": 4,
 "nbformat_minor": 4
}
